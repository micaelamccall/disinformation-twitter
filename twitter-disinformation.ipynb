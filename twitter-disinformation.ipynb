{
 "cells": [
  {
   "cell_type": "code",
   "execution_count": 2,
   "metadata": {},
   "outputs": [],
   "source": [
    "import pandas as pd\n",
    "import numpy as np\n",
    "import os"
   ]
  },
  {
   "cell_type": "code",
   "execution_count": 7,
   "metadata": {},
   "outputs": [],
   "source": [
    "spanish_tweets = pd.read_csv('proj_data/spanish_tweets.csv', encoding='utf-8-sig', index_col = 0).reset_index()\n",
    "english_tweets = pd.read_csv('proj_data/english_tweets.csv', encoding='utf-8-sig', index_col = 0).reset_index()\n",
    "english_tweets.lemmatized_tweet_text = english_tweets.lemmatized_tweet_text.astype('str')\n",
    "spanish_tweets.lemmatized_tweet_text = spanish_tweets.lemmatized_tweet_text.astype('str')"
   ]
  },
  {
   "cell_type": "code",
   "execution_count": 8,
   "metadata": {},
   "outputs": [],
   "source": [
    "from sklearn.feature_extraction.text import CountVectorizer"
   ]
  },
  {
   "cell_type": "code",
   "execution_count": 9,
   "metadata": {},
   "outputs": [],
   "source": [
    "# only words that appear in more than 5 tweets (a way to decrease the size of the vocab)\n",
    "word_vectorizer = CountVectorizer(encoding='utf-8-sig', analyzer='word', min_df=5, ngram_range=(1,1))\n",
    "# create matrix where each column is a word and each row is a count in each tweet\n",
    "word_count_sm = word_vectorizer.fit_transform(spanish_tweets['lemmatized_tweet_text'])\n",
    "words = word_vectorizer.get_feature_names()\n",
    "\n",
    "# sum the count of each word over all Tweets\n",
    "word_count_total = word_count_sm.sum(axis=0)\n",
    "word_count_total_df = pd.DataFrame(word_count_total, columns = words)"
   ]
  },
  {
   "cell_type": "code",
   "execution_count": 11,
   "metadata": {},
   "outputs": [
    {
     "data": {
      "text/html": [
       "<div>\n",
       "<style scoped>\n",
       "    .dataframe tbody tr th:only-of-type {\n",
       "        vertical-align: middle;\n",
       "    }\n",
       "\n",
       "    .dataframe tbody tr th {\n",
       "        vertical-align: top;\n",
       "    }\n",
       "\n",
       "    .dataframe thead th {\n",
       "        text-align: right;\n",
       "    }\n",
       "</style>\n",
       "<table border=\"1\" class=\"dataframe\">\n",
       "  <thead>\n",
       "    <tr style=\"text-align: right;\">\n",
       "      <th></th>\n",
       "      <th>abadi</th>\n",
       "      <th>abajar</th>\n",
       "      <th>abajo</th>\n",
       "      <th>abandonar</th>\n",
       "      <th>abatir</th>\n",
       "      <th>abbas</th>\n",
       "      <th>abby</th>\n",
       "      <th>abc</th>\n",
       "      <th>abdel</th>\n",
       "      <th>abdullah</th>\n",
       "      <th>...</th>\n",
       "      <th>äúpor</th>\n",
       "      <th>äúsegundo</th>\n",
       "      <th>äúsionistas</th>\n",
       "      <th>äútsunami</th>\n",
       "      <th>äúun</th>\n",
       "      <th>äúyo</th>\n",
       "      <th>òë</th>\n",
       "      <th>òï</th>\n",
       "      <th>ùå</th>\n",
       "      <th>üí</th>\n",
       "    </tr>\n",
       "  </thead>\n",
       "  <tbody>\n",
       "    <tr>\n",
       "      <th>0</th>\n",
       "      <td>18</td>\n",
       "      <td>19</td>\n",
       "      <td>8</td>\n",
       "      <td>79</td>\n",
       "      <td>50</td>\n",
       "      <td>15</td>\n",
       "      <td>6</td>\n",
       "      <td>5</td>\n",
       "      <td>17</td>\n",
       "      <td>10</td>\n",
       "      <td>...</td>\n",
       "      <td>5</td>\n",
       "      <td>6</td>\n",
       "      <td>6</td>\n",
       "      <td>18</td>\n",
       "      <td>15</td>\n",
       "      <td>11</td>\n",
       "      <td>6</td>\n",
       "      <td>13</td>\n",
       "      <td>26</td>\n",
       "      <td>14</td>\n",
       "    </tr>\n",
       "  </tbody>\n",
       "</table>\n",
       "<p>1 rows × 6750 columns</p>\n",
       "</div>"
      ],
      "text/plain": [
       "   abadi  abajar  abajo  abandonar  abatir  abbas  abby  abc  abdel  abdullah  \\\n",
       "0     18      19      8         79      50     15     6    5     17        10   \n",
       "\n",
       "   ...  äúpor  äúsegundo  äúsionistas  äútsunami  äúun  äúyo  òë  òï  ùå  üí  \n",
       "0  ...      5          6            6         18    15    11   6  13  26  14  \n",
       "\n",
       "[1 rows x 6750 columns]"
      ]
     },
     "execution_count": 11,
     "metadata": {},
     "output_type": "execute_result"
    }
   ],
   "source": [
    "word_count_total_df"
   ]
  },
  {
   "cell_type": "code",
   "execution_count": null,
   "metadata": {},
   "outputs": [],
   "source": []
  }
 ],
 "metadata": {
  "kernelspec": {
   "display_name": "Python 3",
   "language": "python",
   "name": "python3"
  },
  "language_info": {
   "codemirror_mode": {
    "name": "ipython",
    "version": 3
   },
   "file_extension": ".py",
   "mimetype": "text/x-python",
   "name": "python",
   "nbconvert_exporter": "python",
   "pygments_lexer": "ipython3",
   "version": "3.7.6"
  }
 },
 "nbformat": 4,
 "nbformat_minor": 2
}
